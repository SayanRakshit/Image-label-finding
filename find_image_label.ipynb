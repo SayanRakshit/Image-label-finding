{
 "cells": [
  {
   "cell_type": "code",
   "execution_count": 1,
   "id": "4e75f59c",
   "metadata": {},
   "outputs": [],
   "source": [
    "import os\n",
    "import glob"
   ]
  },
  {
   "cell_type": "code",
   "execution_count": 2,
   "id": "04acfd81",
   "metadata": {},
   "outputs": [],
   "source": [
    "class my_dictionary(dict):\n",
    "    \n",
    "    def __init__(self):\n",
    "        self = dict()\n",
    "        \n",
    "    def add(self, key, value):\n",
    "        self[key] = value"
   ]
  },
  {
   "cell_type": "code",
   "execution_count": 3,
   "id": "00b733c8",
   "metadata": {},
   "outputs": [],
   "source": [
    "def label_dict(data_dir):\n",
    "    dict_obj = my_dictionary()\n",
    "\n",
    "    x = os.walk(data_dir, topdown=False)\n",
    "    j=-1\n",
    "    for path,d,filelist in sorted(x):\n",
    "        if j !=-1:\n",
    "            path1 = os.path.normpath(path)\n",
    "            kkk=path1.split(os.sep)\n",
    "            \n",
    "            dict_obj.add(kkk[-1], j)\n",
    "            \n",
    "        #print(dict_obj)\n",
    "          \n",
    "        j=j+1\n",
    "    return dict_obj"
   ]
  },
  {
   "cell_type": "code",
   "execution_count": 4,
   "id": "90404e94",
   "metadata": {},
   "outputs": [],
   "source": [
    "def find_label(image_file_path, label_dictionary):\n",
    "    path1 = os.path.normpath(image_file_path)\n",
    "    kkk=path1.split(os.sep)\n",
    "    im_label_name=kkk[-2]\n",
    "    \n",
    "    image_label = label_dictionary[im_label_name]\n",
    "    \n",
    "    return image_label, im_label_name\n",
    "    \n",
    "    \n",
    "    "
   ]
  },
  {
   "cell_type": "code",
   "execution_count": 5,
   "id": "ed4870dc",
   "metadata": {},
   "outputs": [],
   "source": [
    "# create label dictionary\n",
    "\n",
    "dataset_path = \"/home/sayan/Desktop/code_2023/RS_data/Image/PatternNet\"\n",
    "\n",
    "label_dictionary=label_dict(dataset_path)"
   ]
  },
  {
   "cell_type": "code",
   "execution_count": 6,
   "id": "cd719987",
   "metadata": {},
   "outputs": [
    {
     "data": {
      "text/plain": [
       "{'airplane': 0,\n",
       " 'baseball_diamond': 1,\n",
       " 'beach': 2,\n",
       " 'chaparral': 3,\n",
       " 'dense_residential': 4,\n",
       " 'forest': 5,\n",
       " 'freeway': 6,\n",
       " 'golf_course': 7,\n",
       " 'harbor': 8,\n",
       " 'intersection': 9,\n",
       " 'mobile_home_park': 10,\n",
       " 'overpass': 11,\n",
       " 'parking_lot': 12,\n",
       " 'river': 13,\n",
       " 'sparse_residential': 14,\n",
       " 'storage_tank': 15,\n",
       " 'tennis_court': 16}"
      ]
     },
     "execution_count": 6,
     "metadata": {},
     "output_type": "execute_result"
    }
   ],
   "source": [
    "label_dictionary"
   ]
  },
  {
   "cell_type": "code",
   "execution_count": 7,
   "id": "6d5ca4b2",
   "metadata": {},
   "outputs": [],
   "source": [
    "ima_file_path = \"/home/sayan/Desktop/code_2023/RS_data/Image/PatternNet/forest/forest041.jpg\""
   ]
  },
  {
   "cell_type": "code",
   "execution_count": 8,
   "id": "b20365c0",
   "metadata": {},
   "outputs": [],
   "source": [
    "im_l, im_n = find_label(ima_file_path, label_dictionary)"
   ]
  },
  {
   "cell_type": "code",
   "execution_count": 9,
   "id": "c9fa3260",
   "metadata": {},
   "outputs": [
    {
     "name": "stdout",
     "output_type": "stream",
     "text": [
      "5\n",
      "forest\n"
     ]
    }
   ],
   "source": [
    "print(im_l)\n",
    "print(im_n)"
   ]
  },
  {
   "cell_type": "code",
   "execution_count": null,
   "id": "ed379915",
   "metadata": {},
   "outputs": [],
   "source": []
  }
 ],
 "metadata": {
  "kernelspec": {
   "display_name": "Python 3 (ipykernel)",
   "language": "python",
   "name": "python3"
  },
  "language_info": {
   "codemirror_mode": {
    "name": "ipython",
    "version": 3
   },
   "file_extension": ".py",
   "mimetype": "text/x-python",
   "name": "python",
   "nbconvert_exporter": "python",
   "pygments_lexer": "ipython3",
   "version": "3.9.7"
  }
 },
 "nbformat": 4,
 "nbformat_minor": 5
}
